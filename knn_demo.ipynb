{
 "cells": [
  {
   "cell_type": "code",
   "execution_count": 1,
   "metadata": {},
   "outputs": [],
   "source": [
    "import numpy as np\n",
    "from knn import knn"
   ]
  },
  {
   "cell_type": "markdown",
   "metadata": {},
   "source": [
    "X_train_Featr  -  \n",
    "\n",
    "X_train_Label  -  "
   ]
  },
  {
   "cell_type": "code",
   "execution_count": 2,
   "metadata": {},
   "outputs": [],
   "source": [
    "X_train_Featr = np.array( [ [1,2], [5,7], [6,7], [10,22], [15,24], [13,105] ] )\n",
    "X_train_Label = np.array( [   0,     0,     0,      1,       1,        1    ] )\n",
    "\n",
    "kNN = knn.KNearestNeihgbor( k = 3 )\n",
    "\n",
    "kNN.Train( X_train_Featr, X_train_Label )"
   ]
  },
  {
   "cell_type": "code",
   "execution_count": 3,
   "metadata": {},
   "outputs": [
    {
     "name": "stdout",
     "output_type": "stream",
     "text": [
      "Accu =  0.6666666666666666\n"
     ]
    }
   ],
   "source": [
    "X_pred_Featr = np.array( [ [0,1], [1,1], [20,30] ] )\n",
    "X_pred_Label = np.array( [   1,     0,      1    ] )\n",
    "\n",
    "\n",
    "yes_cnt = 0\n",
    "no_cnt = 0\n",
    "\n",
    "for idx, pt in enumerate( X_pred_Featr ):\n",
    "    if kNN.Predict( pt ) == X_pred_Label[ idx ]:\n",
    "        yes_cnt += 1\n",
    "    else:\n",
    "        no_cnt += 1\n",
    "\n",
    "\n",
    "print( 'Accu = ', float( yes_cnt ) / ( float( yes_cnt + no_cnt ) ) )"
   ]
  },
  {
   "cell_type": "code",
   "execution_count": null,
   "metadata": {},
   "outputs": [],
   "source": [
    "# ZADANIE 1:\n",
    "# ----------\n",
    "# Wczytaj dane Iris\n",
    "# Sformatuj na dane X i etykiety E\n",
    "# Wydzieli partycję treningową (90%) oraz testową (10%), np. losując\n",
    "# Wytrenuj kNN na partycji treningowej\n",
    "# Sprawdź predykcje na partycji testowej\n",
    "# Wyrysuj heat-map accuracy\n",
    "# Powtórz dla różnych wartości parametru 'k' oraz różnych losowań partycji\n",
    "# Powtórz zmieniając rodzaj odległości, np. iloczyn skalarny m. wektorami\n",
    "\n",
    "# ZADANIE 2:\n",
    "# ----------\n",
    "# Skonstruuj system rozpoznawania podobnych obrazów za pomocą: kNN oraz SIFT \n",
    "# (Pamiętaj, że jeden obraz może mieć wiele SIFT'ów, ale też każdy obraz może\n",
    "# może mieć ich różną liczbę)"
   ]
  }
 ],
 "metadata": {
  "kernelspec": {
   "display_name": "venv",
   "language": "python",
   "name": "python3"
  },
  "language_info": {
   "codemirror_mode": {
    "name": "ipython",
    "version": 3
   },
   "file_extension": ".py",
   "mimetype": "text/x-python",
   "name": "python",
   "nbconvert_exporter": "python",
   "pygments_lexer": "ipython3",
   "version": "3.10.12"
  }
 },
 "nbformat": 4,
 "nbformat_minor": 2
}
